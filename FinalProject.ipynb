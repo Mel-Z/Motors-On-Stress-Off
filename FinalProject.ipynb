{
  "nbformat": 4,
  "nbformat_minor": 0,
  "metadata": {
    "colab": {
      "name": "FinalProject.ipynb",
      "provenance": [],
      "collapsed_sections": [],
      "include_colab_link": true
    },
    "kernelspec": {
      "name": "python3",
      "display_name": "Python 3"
    },
    "language_info": {
      "name": "python"
    }
  },
  "cells": [
    {
      "cell_type": "markdown",
      "metadata": {
        "id": "view-in-github",
        "colab_type": "text"
      },
      "source": [
        "<a href=\"https://colab.research.google.com/github/Mel-Z/Motors-On-Stress-Off/blob/main/FinalProject.ipynb\" target=\"_parent\"><img src=\"https://colab.research.google.com/assets/colab-badge.svg\" alt=\"Open In Colab\"/></a>"
      ]
    },
    {
      "cell_type": "code",
      "execution_count": null,
      "metadata": {
        "colab": {
          "base_uri": "https://localhost:8080/"
        },
        "id": "54BEExn7tTpb",
        "outputId": "ccd4563a-1a71-4aa8-be11-a27b29e29ba9"
      },
      "outputs": [
        {
          "output_type": "stream",
          "name": "stdout",
          "text": [
            "Looking in indexes: https://pypi.org/simple, https://us-python.pkg.dev/colab-wheels/public/simple/\n",
            "Requirement already satisfied: kaggle in /usr/local/lib/python3.7/dist-packages (1.5.12)\n",
            "Requirement already satisfied: urllib3 in /usr/local/lib/python3.7/dist-packages (from kaggle) (1.24.3)\n",
            "Requirement already satisfied: requests in /usr/local/lib/python3.7/dist-packages (from kaggle) (2.23.0)\n",
            "Requirement already satisfied: certifi in /usr/local/lib/python3.7/dist-packages (from kaggle) (2022.6.15)\n",
            "Requirement already satisfied: python-slugify in /usr/local/lib/python3.7/dist-packages (from kaggle) (6.1.2)\n",
            "Requirement already satisfied: six>=1.10 in /usr/local/lib/python3.7/dist-packages (from kaggle) (1.15.0)\n",
            "Requirement already satisfied: python-dateutil in /usr/local/lib/python3.7/dist-packages (from kaggle) (2.8.2)\n",
            "Requirement already satisfied: tqdm in /usr/local/lib/python3.7/dist-packages (from kaggle) (4.64.0)\n",
            "Requirement already satisfied: text-unidecode>=1.3 in /usr/local/lib/python3.7/dist-packages (from python-slugify->kaggle) (1.3)\n",
            "Requirement already satisfied: idna<3,>=2.5 in /usr/local/lib/python3.7/dist-packages (from requests->kaggle) (2.10)\n",
            "Requirement already satisfied: chardet<4,>=3.0.2 in /usr/local/lib/python3.7/dist-packages (from requests->kaggle) (3.0.4)\n"
          ]
        }
      ],
      "source": [
        "from sklearn.model_selection import train_test_split\n",
        "import json\n",
        "import os\n",
        "from tqdm.auto import tqdm\n",
        "import shutil\n",
        "import random\n",
        "import cv2\n",
        "\n",
        "# Instalar la librería de Kaggle para descargar datasets\n",
        "!pip install kaggle\n",
        "\n",
        "# Antes de descargar el dataset, es importante definir las credenciales para acceder al API de Kaggle\n",
        "!mkdir ~/.kaggle\n",
        "!touch ~/.kaggle/kaggle.json\n",
        "\n",
        "# Puedes crear tu propio token y username de la API de Kaggle en https://www.kaggle.com/\n",
        "api_token = {\"username\":\"benjaminvillegas\",\"key\":\"51aee955395f28ce555fbc0a8abb4481\"}\n",
        "\n",
        "# Crear un archivo con las credenciales, de tal forma que kaggle pueda leerlas facilmente\n",
        "with open('/root/.kaggle/kaggle.json', 'w') as file:\n",
        "    json.dump(api_token, file)\n",
        "\n",
        "!chmod 600 ~/.kaggle/kaggle.json"
      ]
    },
    {
      "cell_type": "code",
      "source": [
        "import pandas as pd\n",
        "import numpy as np\n",
        "%cd /content\n",
        "\n",
        "# Comprobar si el conjunto de datos ya se ha descargado\n",
        "if not os.path.exists('./affectnethq'):\n",
        "  os.makedirs('affectnethq')\n",
        "else: \n",
        "  !rm -rf affectnethq\n",
        "\n",
        "# Descargar un dataset desde Kaggle\n",
        "#!kaggle datasets download -d tunhunhminh/demodata -p city_problems\n",
        "!kaggle datasets download -d tom99763/affectnethq\n",
        "\n"
      ],
      "metadata": {
        "colab": {
          "base_uri": "https://localhost:8080/"
        },
        "id": "iSp1By2Ovzyi",
        "outputId": "461eb86d-d920-42ec-b125-bfd533ed5c3e"
      },
      "execution_count": null,
      "outputs": [
        {
          "output_type": "stream",
          "name": "stdout",
          "text": [
            "/content\n",
            "Downloading affectnethq.zip to /content\n",
            "100% 8.10G/8.12G [00:54<00:00, 193MB/s]\n",
            "100% 8.12G/8.12G [00:54<00:00, 160MB/s]\n"
          ]
        }
      ]
    },
    {
      "cell_type": "code",
      "source": [
        "# Descomprimir dataset \n",
        "!unzip -qn '/content/affectnethq.zip' -d /content/affectnethq > /dev/null\n",
        "!rm /content/affectnethq.zip"
      ],
      "metadata": {
        "id": "nvskTOqGxQ1d"
      },
      "execution_count": null,
      "outputs": []
    },
    {
      "cell_type": "code",
      "source": [
        "categories = [\"surprise\",\"happy\",\"anger\",\"disgust\",\"fear\",\"contempt\",\"sad\",\"neutral\"]\n",
        "dataset = pd.read_csv('/content/affectnethq/labels.csv')"
      ],
      "metadata": {
        "id": "SzQGs9Sljwes"
      },
      "execution_count": null,
      "outputs": []
    },
    {
      "cell_type": "code",
      "source": [
        "dataset[\"label\"][0]"
      ],
      "metadata": {
        "colab": {
          "base_uri": "https://localhost:8080/",
          "height": 36
        },
        "id": "fG7nmnUyH-rV",
        "outputId": "a793d3f8-f07e-46d4-d8ce-c2e56343575d"
      },
      "execution_count": null,
      "outputs": [
        {
          "output_type": "execute_result",
          "data": {
            "text/plain": [
              "'surprise'"
            ],
            "application/vnd.google.colaboratory.intrinsic+json": {
              "type": "string"
            }
          },
          "metadata": {},
          "execution_count": 87
        }
      ]
    },
    {
      "cell_type": "code",
      "source": [
        "cad=dataset[\"pth\"][0]\n",
        "s=cad.split('/')\n",
        "cad2=s[1]\n",
        "cad2"
      ],
      "metadata": {
        "colab": {
          "base_uri": "https://localhost:8080/",
          "height": 36
        },
        "id": "10koTTBrZ79Q",
        "outputId": "2f7c0421-c096-4ff2-9955-cffe8f76ddc0"
      },
      "execution_count": null,
      "outputs": [
        {
          "output_type": "execute_result",
          "data": {
            "text/plain": [
              "'image0000006.jpg'"
            ],
            "application/vnd.google.colaboratory.intrinsic+json": {
              "type": "string"
            }
          },
          "metadata": {},
          "execution_count": 88
        }
      ]
    },
    {
      "cell_type": "code",
      "source": [
        "#movemos cada imagen a su carpeta respectiva segun el archivo csv\n",
        "for idx, sample in enumerate(dataset[\"label\"]):\n",
        "  s=dataset[\"pth\"][idx]\n",
        "  cad=s.split('/')\n",
        "  direc=cad[1]\n",
        "  shutil.move(\"/content/affectnethq/\"+dataset[\"pth\"][idx],\"/content/affectnethq/\"+dataset[\"label\"][idx]+\"/\"+direc)\n"
      ],
      "metadata": {
        "id": "DciwhTwjdssQ"
      },
      "execution_count": null,
      "outputs": []
    },
    {
      "cell_type": "code",
      "source": [
        "#comprobamos que el nuero de imagenes corresponda a cierta categoria segun e\n",
        "import os\n",
        "initial_count = 0\n",
        "dir = \"/content/affectnethq/sad\"\n",
        "for path in os.listdir(dir):\n",
        "    if os.path.isfile(os.path.join(dir, path)):\n",
        "        initial_count += 1\n",
        "print(initial_count)"
      ],
      "metadata": {
        "colab": {
          "base_uri": "https://localhost:8080/"
        },
        "id": "ugREBh16Kq4X",
        "outputId": "a83f84d2-e07e-4945-eb15-6d94b1f7607a"
      },
      "execution_count": null,
      "outputs": [
        {
          "output_type": "stream",
          "name": "stdout",
          "text": [
            "3344\n"
          ]
        }
      ]
    },
    {
      "cell_type": "code",
      "source": [
        "count=0\n",
        "for i, sample in enumerate(dataset[\"label\"]):\n",
        "  if sample=='sad':\n",
        "    count=count+1\n",
        "print(count)"
      ],
      "metadata": {
        "colab": {
          "base_uri": "https://localhost:8080/"
        },
        "id": "ci93AjDwK3kB",
        "outputId": "4278dfb5-4526-401b-9153-eee385db0d0b"
      },
      "execution_count": null,
      "outputs": [
        {
          "output_type": "stream",
          "name": "stdout",
          "text": [
            "3352\n"
          ]
        }
      ]
    },
    {
      "cell_type": "code",
      "source": [
        "#dividimos el dataset\n",
        "!pip install split-folders"
      ],
      "metadata": {
        "colab": {
          "base_uri": "https://localhost:8080/"
        },
        "id": "y_dQbB2Mi4u3",
        "outputId": "eda4768e-5daf-40a9-d418-3411b19230a3"
      },
      "execution_count": null,
      "outputs": [
        {
          "output_type": "stream",
          "name": "stdout",
          "text": [
            "Looking in indexes: https://pypi.org/simple, https://us-python.pkg.dev/colab-wheels/public/simple/\n",
            "Collecting split-folders\n",
            "  Downloading split_folders-0.5.1-py3-none-any.whl (8.4 kB)\n",
            "Installing collected packages: split-folders\n",
            "Successfully installed split-folders-0.5.1\n"
          ]
        }
      ]
    },
    {
      "cell_type": "code",
      "source": [
        "import splitfolders  \n",
        "\n",
        "#Dividir una carpeta en 80% train y 20% test\n",
        "splitfolders.ratio(\"/content/affectnethq\", output=\"/content/dataAffect2\", seed=1337, ratio=(.7, .15, .15), group_prefix=None) # default values"
      ],
      "metadata": {
        "colab": {
          "base_uri": "https://localhost:8080/"
        },
        "id": "wJDlBCgXjMiP",
        "outputId": "002d8f1b-9dc3-4519-cc40-ec69b95c4279"
      },
      "execution_count": null,
      "outputs": [
        {
          "output_type": "stream",
          "name": "stderr",
          "text": [
            "Copying files: 30624 files [02:22, 215.23 files/s]\n"
          ]
        }
      ]
    },
    {
      "cell_type": "code",
      "source": [
        "# Buscar dentro los directorios\n",
        "data_dir = '/content/dataAffect2'\n",
        "print(os.listdir(data_dir))\n",
        "classes_train = os.listdir(data_dir + \"/train\")\n",
        "classes_valid = os.listdir(data_dir + \"/val\")\n",
        "classes_test = os.listdir(data_dir + \"/test\")\n",
        "print(f'Train Classes - {classes_train}')\n",
        "print(f'Validation Classes - {classes_valid}')\n",
        "print(f'Test Classes - {classes_test}')"
      ],
      "metadata": {
        "colab": {
          "base_uri": "https://localhost:8080/"
        },
        "id": "HLrd_qCekIPR",
        "outputId": "a3f7c4ec-6c26-4f5a-dc3b-3c8779a4f772"
      },
      "execution_count": null,
      "outputs": [
        {
          "output_type": "stream",
          "name": "stdout",
          "text": [
            "['train', 'val', 'test']\n",
            "Train Classes - ['contempt', 'happy', 'disgust', 'fear', 'sad', 'neutral', 'anger', 'surprise']\n",
            "Validation Classes - ['contempt', 'happy', 'disgust', 'fear', 'sad', 'neutral', 'anger', 'surprise']\n",
            "Test Classes - ['contempt', 'happy', 'disgust', 'fear', 'sad', 'neutral', 'anger', 'surprise']\n"
          ]
        }
      ]
    },
    {
      "cell_type": "code",
      "source": [
        "#utilizaremos el modelo pre entrenado de efficientnet\n",
        "!pip install -U efficientnet\n"
      ],
      "metadata": {
        "colab": {
          "base_uri": "https://localhost:8080/"
        },
        "id": "dunQxM8fkit6",
        "outputId": "d63f9fff-d56f-4ae0-c640-12113c1691a8"
      },
      "execution_count": null,
      "outputs": [
        {
          "output_type": "stream",
          "name": "stdout",
          "text": [
            "Looking in indexes: https://pypi.org/simple, https://us-python.pkg.dev/colab-wheels/public/simple/\n",
            "Collecting efficientnet\n",
            "  Downloading efficientnet-1.1.1-py3-none-any.whl (18 kB)\n",
            "Requirement already satisfied: scikit-image in /usr/local/lib/python3.7/dist-packages (from efficientnet) (0.18.3)\n",
            "Collecting keras-applications<=1.0.8,>=1.0.7\n",
            "  Downloading Keras_Applications-1.0.8-py3-none-any.whl (50 kB)\n",
            "\u001b[K     |████████████████████████████████| 50 kB 7.3 MB/s \n",
            "\u001b[?25hRequirement already satisfied: numpy>=1.9.1 in /usr/local/lib/python3.7/dist-packages (from keras-applications<=1.0.8,>=1.0.7->efficientnet) (1.21.6)\n",
            "Requirement already satisfied: h5py in /usr/local/lib/python3.7/dist-packages (from keras-applications<=1.0.8,>=1.0.7->efficientnet) (3.1.0)\n",
            "Requirement already satisfied: cached-property in /usr/local/lib/python3.7/dist-packages (from h5py->keras-applications<=1.0.8,>=1.0.7->efficientnet) (1.5.2)\n",
            "Requirement already satisfied: tifffile>=2019.7.26 in /usr/local/lib/python3.7/dist-packages (from scikit-image->efficientnet) (2021.11.2)\n",
            "Requirement already satisfied: PyWavelets>=1.1.1 in /usr/local/lib/python3.7/dist-packages (from scikit-image->efficientnet) (1.3.0)\n",
            "Requirement already satisfied: pillow!=7.1.0,!=7.1.1,>=4.3.0 in /usr/local/lib/python3.7/dist-packages (from scikit-image->efficientnet) (7.1.2)\n",
            "Requirement already satisfied: imageio>=2.3.0 in /usr/local/lib/python3.7/dist-packages (from scikit-image->efficientnet) (2.4.1)\n",
            "Requirement already satisfied: networkx>=2.0 in /usr/local/lib/python3.7/dist-packages (from scikit-image->efficientnet) (2.6.3)\n",
            "Requirement already satisfied: scipy>=1.0.1 in /usr/local/lib/python3.7/dist-packages (from scikit-image->efficientnet) (1.7.3)\n",
            "Requirement already satisfied: matplotlib!=3.0.0,>=2.0.0 in /usr/local/lib/python3.7/dist-packages (from scikit-image->efficientnet) (3.2.2)\n",
            "Requirement already satisfied: python-dateutil>=2.1 in /usr/local/lib/python3.7/dist-packages (from matplotlib!=3.0.0,>=2.0.0->scikit-image->efficientnet) (2.8.2)\n",
            "Requirement already satisfied: pyparsing!=2.0.4,!=2.1.2,!=2.1.6,>=2.0.1 in /usr/local/lib/python3.7/dist-packages (from matplotlib!=3.0.0,>=2.0.0->scikit-image->efficientnet) (3.0.9)\n",
            "Requirement already satisfied: kiwisolver>=1.0.1 in /usr/local/lib/python3.7/dist-packages (from matplotlib!=3.0.0,>=2.0.0->scikit-image->efficientnet) (1.4.3)\n",
            "Requirement already satisfied: cycler>=0.10 in /usr/local/lib/python3.7/dist-packages (from matplotlib!=3.0.0,>=2.0.0->scikit-image->efficientnet) (0.11.0)\n",
            "Requirement already satisfied: typing-extensions in /usr/local/lib/python3.7/dist-packages (from kiwisolver>=1.0.1->matplotlib!=3.0.0,>=2.0.0->scikit-image->efficientnet) (4.1.1)\n",
            "Requirement already satisfied: six>=1.5 in /usr/local/lib/python3.7/dist-packages (from python-dateutil>=2.1->matplotlib!=3.0.0,>=2.0.0->scikit-image->efficientnet) (1.15.0)\n",
            "Installing collected packages: keras-applications, efficientnet\n",
            "Successfully installed efficientnet-1.1.1 keras-applications-1.0.8\n"
          ]
        }
      ]
    },
    {
      "cell_type": "code",
      "source": [
        "import zipfile \n",
        "import tensorflow as tf \n",
        "from tensorflow.keras.preprocessing.image import ImageDataGenerator \n",
        "from tensorflow.keras import layers \n",
        "from tensorflow.keras import Model \n",
        "import matplotlib.pyplot as plt"
      ],
      "metadata": {
        "id": "uBjchqnMloJG"
      },
      "execution_count": null,
      "outputs": []
    },
    {
      "cell_type": "code",
      "source": [
        "# Todas las imágenes seran divididas entre el maximo valor por canal, por lo que quedaran rescaladas entre el 0 y 1. \n",
        "train_datagen = ImageDataGenerator(rescale=1./255,rotation_range = 40, width_shift_range = 0.2, height_shift_range = 0.2, shear_range = 0.2, zoom_range = 0.2, horizontal_flip = True)\n",
        "valid_datagen = ImageDataGenerator(rescale=1./255)\n",
        "test_datagen = ImageDataGenerator(rescale=1./255)\n",
        "\n",
        "# Tamaño del lote (imágenes a procesar por el modelo al mismo tiempo)\n",
        "BATCH_SIZE = 32\n",
        "TRAINSET_PATH=\"/content/dataAffect2/train\"\n",
        "VALIDSET_PATH = \"/content/dataAffect2/val\"\n",
        "TESTSET_PATH = \"/content/dataAffect2/test\"\n",
        "\n",
        "\n",
        "# Importar datos desde los directorios y convertirlos en lotes de tensores\n",
        "train_data = train_datagen.flow_from_directory(TRAINSET_PATH,\n",
        "                                               batch_size=BATCH_SIZE, # tamaño del lote\n",
        "                                               target_size=(224, 224), # convertir todas las imágenes a 224 x 224\n",
        "                                               class_mode=\"categorical\", # tipo de problema, usar 'binary' si tuviesemos dos clases\n",
        "                                               seed=42) # semilla para generar las mismas selecciones durante los experimentos\n",
        "\n",
        "valid_data = valid_datagen.flow_from_directory(VALIDSET_PATH,\n",
        "                                               batch_size=32,\n",
        "                                               target_size=(224, 224),\n",
        "                                               class_mode=\"categorical\",\n",
        "                                               seed=42)\n",
        "test_data = test_datagen.flow_from_directory(TESTSET_PATH,\n",
        "                                               batch_size=32,\n",
        "                                               target_size=(224, 224),\n",
        "                                               class_mode=\"categorical\",\n",
        "                                               seed=42)\n"
      ],
      "metadata": {
        "colab": {
          "base_uri": "https://localhost:8080/"
        },
        "id": "CtCSix0nml8n",
        "outputId": "f3b99a23-e1d2-4591-e9d8-239906763b67"
      },
      "execution_count": null,
      "outputs": [
        {
          "output_type": "stream",
          "name": "stdout",
          "text": [
            "Found 21433 images belonging to 8 classes.\n",
            "Found 4590 images belonging to 8 classes.\n",
            "Found 4601 images belonging to 8 classes.\n"
          ]
        }
      ]
    },
    {
      "cell_type": "code",
      "source": [
        "#cargamos el modelo efficientNet de keras\n",
        "from tensorflow.keras.applications import EfficientNetB0\n",
        "base_model = EfficientNetB0(input_shape = (224, 224, 3), include_top = False, weights = 'imagenet',classes=8)"
      ],
      "metadata": {
        "id": "5d-KJzOwnkTK"
      },
      "execution_count": null,
      "outputs": []
    },
    {
      "cell_type": "code",
      "source": [
        "#congelamos layers\n",
        "for layer in base_model.layers:\n",
        "    layer.trainable = False"
      ],
      "metadata": {
        "id": "nzKdMD8HsrEa"
      },
      "execution_count": null,
      "outputs": []
    },
    {
      "cell_type": "code",
      "source": [
        "x = base_model.output\n",
        "x = tf.keras.layers.Flatten()(x)\n",
        "x = tf.keras.layers.Dense(1024, activation=\"relu\")(x)\n",
        "x = tf.keras.layers.Dropout(0.5)(x)\n",
        "\n",
        "# Add a final sigmoid layer with 1 node for classification output\n",
        "predictions = tf.keras.layers.Dense(8, activation=\"sigmoid\")(x)\n",
        "model_final = Model(base_model.input, predictions)"
      ],
      "metadata": {
        "id": "Ndy0XBwIs87y"
      },
      "execution_count": null,
      "outputs": []
    },
    {
      "cell_type": "code",
      "source": [
        "model_final.compile(optimizer=tf.keras.optimizers.Adam(learning_rate=0.01),loss='categorical_crossentropy',metrics=['accuracy'])               "
      ],
      "metadata": {
        "id": "FXz7uY03w6rS"
      },
      "execution_count": null,
      "outputs": []
    },
    {
      "cell_type": "code",
      "source": [
        "eff_history = model_final.fit_generator(train_data, validation_data = valid_data, epochs = 10,steps_per_epoch = 100) #steps_per_epoch = 100"
      ],
      "metadata": {
        "colab": {
          "base_uri": "https://localhost:8080/"
        },
        "id": "OBGpt-BJxv3H",
        "outputId": "ed6f2f24-fe11-47a4-cf47-3b191fd075d2"
      },
      "execution_count": null,
      "outputs": [
        {
          "output_type": "stream",
          "name": "stderr",
          "text": [
            "/usr/local/lib/python3.7/dist-packages/ipykernel_launcher.py:1: UserWarning: `Model.fit_generator` is deprecated and will be removed in a future version. Please use `Model.fit`, which supports generators.\n",
            "  \"\"\"Entry point for launching an IPython kernel.\n"
          ]
        },
        {
          "output_type": "stream",
          "name": "stdout",
          "text": [
            "Epoch 1/10\n",
            " 95/100 [===========================>..] - ETA: 13s - loss: 3.0781 - accuracy: 0.1368"
          ]
        }
      ]
    },
    {
      "cell_type": "code",
      "source": [
        ""
      ],
      "metadata": {
        "id": "JZ-U1_in4DoX"
      },
      "execution_count": null,
      "outputs": []
    }
  ]
}